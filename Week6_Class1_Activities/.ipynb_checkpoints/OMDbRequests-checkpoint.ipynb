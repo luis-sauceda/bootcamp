{
 "cells": [
  {
   "cell_type": "code",
   "execution_count": 10,
   "metadata": {},
   "outputs": [],
   "source": [
    "import requests\n",
    "import json"
   ]
  },
  {
   "cell_type": "code",
   "execution_count": 11,
   "metadata": {},
   "outputs": [],
   "source": [
    "# New Dependency! Use this to pretty print the JSON\n",
    "# https://docs.python.org/3/library/pprint.html\n",
    "from pprint import pprint"
   ]
  },
  {
   "cell_type": "code",
   "execution_count": 13,
   "metadata": {},
   "outputs": [],
   "source": [
    "def url(movie):\n",
    "    url = \"http://www.omdbapi.com/?t=\"\n",
    "    api_key = \"&apikey=trilogy\"\n",
    "    url_movie = url + movie + api_key \n",
    "    return url_movie"
   ]
  },
  {
   "cell_type": "code",
   "execution_count": 14,
   "metadata": {},
   "outputs": [
    {
     "name": "stdout",
     "output_type": "stream",
     "text": [
      "http://www.omdbapi.com/?t=Aliens&apikey=trilogy\n"
     ]
    }
   ],
   "source": [
    "# Note that the ?t= is a query param for the t-itle of the\n",
    "# movie we want to search for.\n",
    "response = requests.get(url(\"Aliens\"))\n",
    "print(response.url)"
   ]
  },
  {
   "cell_type": "code",
   "execution_count": 17,
   "metadata": {},
   "outputs": [
    {
     "name": "stdout",
     "output_type": "stream",
     "text": [
      "{'Actors': 'Sigourney Weaver, Carrie Henn, Michael Biehn, Paul Reiser',\n",
      " 'Awards': 'Won 2 Oscars. Another 18 wins & 22 nominations.',\n",
      " 'BoxOffice': 'N/A',\n",
      " 'Country': 'USA, UK',\n",
      " 'DVD': '01 Jun 1999',\n",
      " 'Director': 'James Cameron',\n",
      " 'Genre': 'Action, Adventure, Sci-Fi, Thriller',\n",
      " 'Language': 'English',\n",
      " 'Metascore': '84',\n",
      " 'Plot': 'Ellen Ripley is rescued by a deep salvage team after being in '\n",
      "         'hypersleep for 57 years. The moon that the Nostromo visited has been '\n",
      "         'colonized, but contact is lost. This time, colonial marines have '\n",
      "         'impressive firepower, but will that be enough?',\n",
      " 'Poster': 'https://m.media-amazon.com/images/M/MV5BZGU2OGY5ZTYtMWNhYy00NjZiLWI0NjUtZmNhY2JhNDRmODU3XkEyXkFqcGdeQXVyNzkwMjQ5NzM@._V1_SX300.jpg',\n",
      " 'Production': '20th Century Fox',\n",
      " 'Rated': 'R',\n",
      " 'Ratings': [{'Source': 'Internet Movie Database', 'Value': '8.4/10'},\n",
      "             {'Source': 'Rotten Tomatoes', 'Value': '99%'},\n",
      "             {'Source': 'Metacritic', 'Value': '84/100'}],\n",
      " 'Released': '18 Jul 1986',\n",
      " 'Response': 'True',\n",
      " 'Runtime': '137 min',\n",
      " 'Title': 'Aliens',\n",
      " 'Type': 'movie',\n",
      " 'Website': 'https://www.foxmovies.com/movies/aliens',\n",
      " 'Writer': 'James Cameron (story by), David Giler (story by), Walter Hill '\n",
      "           \"(story by), Dan O'Bannon (based on characters created by), Ronald \"\n",
      "           'Shusett (based on characters created by), James Cameron '\n",
      "           '(screenplay by)',\n",
      " 'Year': '1986',\n",
      " 'imdbID': 'tt0090605',\n",
      " 'imdbRating': '8.4',\n",
      " 'imdbVotes': '602,195'}\n"
     ]
    }
   ],
   "source": [
    "# Converting the response to JSON, and printing the result.\n",
    "data = response.json()\n",
    "pprint(data)"
   ]
  },
  {
   "cell_type": "code",
   "execution_count": 18,
   "metadata": {},
   "outputs": [
    {
     "name": "stdout",
     "output_type": "stream",
     "text": [
      "Movie was directed by James Cameron.\n",
      "Movie was released in USA, UK.\n"
     ]
    }
   ],
   "source": [
    "# Print a few keys from the response JSON.\n",
    "print(f\"Movie was directed by {data['Director']}.\")\n",
    "print(f\"Movie was released in {data['Country']}.\")"
   ]
  },
  {
   "cell_type": "code",
   "execution_count": 19,
   "metadata": {},
   "outputs": [
    {
     "name": "stdout",
     "output_type": "stream",
     "text": [
      "http://www.omdbapi.com/?t=Gladiator&apikey=trilogy\n"
     ]
    }
   ],
   "source": [
    "#Search for Gladiator rate\n",
    "response = requests.get(url(\"Gladiator\"))\n",
    "print(response.url)"
   ]
  },
  {
   "cell_type": "code",
   "execution_count": 20,
   "metadata": {},
   "outputs": [
    {
     "name": "stdout",
     "output_type": "stream",
     "text": [
      "Gladiator was rated 8.5.\n"
     ]
    }
   ],
   "source": [
    "data = response.json()\n",
    "print(f\"Gladiator was rated {data['imdbRating']}.\")\n"
   ]
  },
  {
   "cell_type": "code",
   "execution_count": 21,
   "metadata": {},
   "outputs": [
    {
     "ename": "NameError",
     "evalue": "name 'requezts' is not defined",
     "output_type": "error",
     "traceback": [
      "\u001b[1;31m---------------------------------------------------------------------------\u001b[0m",
      "\u001b[1;31mNameError\u001b[0m                                 Traceback (most recent call last)",
      "\u001b[1;32m<ipython-input-21-71ca31bb9c1d>\u001b[0m in \u001b[0;36m<module>\u001b[1;34m\u001b[0m\n\u001b[0;32m      1\u001b[0m \u001b[1;31m#search for 50 first dates release year\u001b[0m\u001b[1;33m\u001b[0m\u001b[1;33m\u001b[0m\u001b[1;33m\u001b[0m\u001b[0m\n\u001b[1;32m----> 2\u001b[1;33m \u001b[0mresponse\u001b[0m \u001b[1;33m=\u001b[0m \u001b[0mrequezts\u001b[0m\u001b[1;33m.\u001b[0m\u001b[0mget\u001b[0m\u001b[1;33m(\u001b[0m\u001b[0murl\u001b[0m\u001b[1;33m(\u001b[0m\u001b[1;34m\"50 First Dates\"\u001b[0m\u001b[1;33m)\u001b[0m\u001b[1;33m)\u001b[0m\u001b[1;33m\u001b[0m\u001b[1;33m\u001b[0m\u001b[0m\n\u001b[0m\u001b[0;32m      3\u001b[0m \u001b[0mprint\u001b[0m\u001b[1;33m(\u001b[0m\u001b[0mresponse\u001b[0m\u001b[1;33m.\u001b[0m\u001b[0murl\u001b[0m\u001b[1;33m)\u001b[0m\u001b[1;33m\u001b[0m\u001b[1;33m\u001b[0m\u001b[0m\n",
      "\u001b[1;31mNameError\u001b[0m: name 'requezts' is not defined"
     ]
    }
   ],
   "source": [
    "#search for 50 first dates release year\n",
    "response = requezts.get(url(\"50 First Dates\"))\n",
    "print(response.url)"
   ]
  },
  {
   "cell_type": "code",
   "execution_count": null,
   "metadata": {},
   "outputs": [],
   "source": [
    "data = response.json()\n",
    "print(f\"50 First Dates was released on {data['Year']}.\")"
   ]
  }
 ],
 "metadata": {
  "kernelspec": {
   "display_name": "Python 3",
   "language": "python",
   "name": "python3"
  },
  "language_info": {
   "codemirror_mode": {
    "name": "ipython",
    "version": 3
   },
   "file_extension": ".py",
   "mimetype": "text/x-python",
   "name": "python",
   "nbconvert_exporter": "python",
   "pygments_lexer": "ipython3",
   "version": "3.6.8"
  },
  "varInspector": {
   "cols": {
    "lenName": 16,
    "lenType": 16,
    "lenVar": 40
   },
   "kernels_config": {
    "python": {
     "delete_cmd_postfix": "",
     "delete_cmd_prefix": "del ",
     "library": "var_list.py",
     "varRefreshCmd": "print(var_dic_list())"
    },
    "r": {
     "delete_cmd_postfix": ") ",
     "delete_cmd_prefix": "rm(",
     "library": "var_list.r",
     "varRefreshCmd": "cat(var_dic_list()) "
    }
   },
   "types_to_exclude": [
    "module",
    "function",
    "builtin_function_or_method",
    "instance",
    "_Feature"
   ],
   "window_display": false
  }
 },
 "nbformat": 4,
 "nbformat_minor": 2
}
