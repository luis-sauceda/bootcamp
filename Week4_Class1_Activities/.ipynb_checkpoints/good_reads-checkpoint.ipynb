{
 "cells": [
  {
   "cell_type": "code",
   "execution_count": 1,
   "metadata": {},
   "outputs": [],
   "source": [
    "import pandas as pd"
   ]
  },
  {
   "cell_type": "code",
   "execution_count": 2,
   "metadata": {},
   "outputs": [],
   "source": [
    "file_name = \"Resources_books.csv\""
   ]
  },
  {
   "cell_type": "code",
   "execution_count": 3,
   "metadata": {},
   "outputs": [],
   "source": [
    "file_df = pd.read_csv(file_name, encoding=\"ISO-8859-1\")"
   ]
  },
  {
   "cell_type": "code",
   "execution_count": 4,
   "metadata": {},
   "outputs": [],
   "source": [
    "filtered_df = file_df[[\"isbn\", \"original_publication_year\", \"original_title\", \"authors\", \"ratings_1\", \n",
    "                       \"ratings_2\", \"ratings_3\", \"ratings_4\", \"ratings_5\"]]"
   ]
  },
  {
   "cell_type": "code",
   "execution_count": 5,
   "metadata": {},
   "outputs": [],
   "source": [
    "renamed_df = filtered_df.rename(columns={\"isbn\": \"ISBN\", \"original_publication_year\": \"Publication Year\", \n",
    "                                         \"original_title\": \"Original Title\", \"authors\": \"Authors\", \n",
    "                                         \"ratings_1\": \"One Star Reviews\", \"ratings_2\": \"Two Star Reviews\", \n",
    "                                         \"ratings_3\": \"Three Star Reviews\", \"ratings_4\": \"Four Star Reviews\",\n",
    "                                         \"ratings_5\": \"Five Star Reviews\"})"
   ]
  },
  {
   "cell_type": "code",
   "execution_count": 6,
   "metadata": {},
   "outputs": [],
   "source": [
    "renamed_df.to_csv(\"Salida_books.csv\", index=False, header=True)"
   ]
  },
  {
   "cell_type": "code",
   "execution_count": null,
   "metadata": {},
   "outputs": [],
   "source": []
  }
 ],
 "metadata": {
  "kernelspec": {
   "display_name": "Python 3",
   "language": "python",
   "name": "python3"
  },
  "language_info": {
   "codemirror_mode": {
    "name": "ipython",
    "version": 3
   },
   "file_extension": ".py",
   "mimetype": "text/x-python",
   "name": "python",
   "nbconvert_exporter": "python",
   "pygments_lexer": "ipython3",
   "version": "3.6.8"
  }
 },
 "nbformat": 4,
 "nbformat_minor": 2
}
