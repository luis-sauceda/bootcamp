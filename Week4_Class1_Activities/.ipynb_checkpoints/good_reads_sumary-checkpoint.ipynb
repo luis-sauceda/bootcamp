{
 "cells": [
  {
   "cell_type": "code",
   "execution_count": 1,
   "metadata": {},
   "outputs": [],
   "source": [
    "import pandas as pd"
   ]
  },
  {
   "cell_type": "code",
   "execution_count": 2,
   "metadata": {},
   "outputs": [],
   "source": [
    "file_name = \"Resources_books.csv\""
   ]
  },
  {
   "cell_type": "code",
   "execution_count": 3,
   "metadata": {},
   "outputs": [],
   "source": [
    "file_df = pd.read_csv(file_name, encoding=\"ISO-8859-1\")"
   ]
  },
  {
   "cell_type": "code",
   "execution_count": 4,
   "metadata": {},
   "outputs": [],
   "source": [
    "filtered_df = file_df[[\"isbn\", \"original_publication_year\", \"original_title\", \"authors\", \"ratings_1\", \n",
    "                       \"ratings_2\", \"ratings_3\", \"ratings_4\", \"ratings_5\"]]"
   ]
  },
  {
   "cell_type": "code",
   "execution_count": 5,
   "metadata": {},
   "outputs": [],
   "source": [
    "renamed_df = filtered_df.rename(columns={\"isbn\": \"ISBN\", \"original_publication_year\": \"Publication Year\", \n",
    "                                         \"original_title\": \"Original Title\", \"authors\": \"Authors\", \n",
    "                                         \"ratings_1\": \"One Star Reviews\", \"ratings_2\": \"Two Star Reviews\", \n",
    "                                         \"ratings_3\": \"Three Star Reviews\", \"ratings_4\": \"Four Star Reviews\",\n",
    "                                         \"ratings_5\": \"Five Star Reviews\"})"
   ]
  },
  {
   "cell_type": "code",
   "execution_count": 6,
   "metadata": {},
   "outputs": [
    {
     "data": {
      "text/plain": [
       "Stephen King                                                              60\n",
       "Nora Roberts                                                              59\n",
       "Dean Koontz                                                               47\n",
       "Terry Pratchett                                                           42\n",
       "Agatha Christie                                                           39\n",
       "Meg Cabot                                                                 37\n",
       "James Patterson                                                           36\n",
       "David Baldacci                                                            34\n",
       "J.D. Robb                                                                 33\n",
       "John Grisham                                                              33\n",
       "Janet Evanovich                                                           30\n",
       "Laurell K. Hamilton                                                       30\n",
       "Michael Connelly                                                          29\n",
       "John Sandford                                                             28\n",
       "Kristen Ashley                                                            27\n",
       "Tamora Pierce                                                             26\n",
       "Sherrilyn Kenyon                                                          25\n",
       "Harlan Coben                                                              25\n",
       "Patricia Cornwell                                                         25\n",
       "Jim Butcher                                                               24\n",
       "Sue Grafton                                                               24\n",
       "Jodi Picoult                                                              23\n",
       "Anne Rice                                                                 23\n",
       "Rick Riordan                                                              22\n",
       "Abbi Glines                                                               22\n",
       "Charlaine Harris                                                          22\n",
       "Brandon Sanderson                                                         21\n",
       "Richelle Mead                                                             21\n",
       "Orson Scott Card                                                          21\n",
       "Lee Child                                                                 21\n",
       "                                                                          ..\n",
       "Katie MacAlister                                                           1\n",
       "John C. Maxwell                                                            1\n",
       "Natalie Babbitt                                                            1\n",
       "Neil Gaiman, Jill Thompson, Vince Locke, Peter Straub                      1\n",
       "Anonymous, Richard Wilhelm, Cary F. Baynes, C.G. Jung                      1\n",
       "Kevin Stein                                                                1\n",
       "Bill Finger, Gardner F. Fox, Bob Kane, Jerry Robinson, Sheldon Moldoff     1\n",
       "Paramahansa Yogananda                                                      1\n",
       "G.K. Chesterton                                                            1\n",
       "Elisabeth KÃ¼bler-Ross                                                     1\n",
       "Gavin Menzies                                                              1\n",
       "Sigmund Freud, James Strachey, Peter Gay                                   1\n",
       "Jason F. Wright                                                            1\n",
       "Elizabeth Kolbert                                                          1\n",
       "Omar Tyree                                                                 1\n",
       "Clarissa Pinkola EstÃ©s                                                    1\n",
       "ØªØ§Ù\n",
       "Ø± Ø¥Ø¨Ø±Ø§ÙÙÙ\n",
       "                                                    1\n",
       "Brother Lawrence                                                           1\n",
       "Jana Oliver                                                                1\n",
       "IrÃ¨ne NÃ©mirovsky, Sandra Smith                                           1\n",
       "Maria Dahvana Headley                                                      1\n",
       "Per Petterson, Anne Born                                                   1\n",
       "Chris Guillebeau                                                           1\n",
       "Washington Irving                                                          1\n",
       "Phil Robertson, Mark Schlabach                                             1\n",
       "Julia Heaberlin                                                            1\n",
       "Neil Gaiman, Yoshitaka Amano                                               1\n",
       "Daphne du Maurier, Sally Beauman                                           1\n",
       "Bret Lott                                                                  1\n",
       "Ralph Ellison                                                              1\n",
       "Name: Authors, Length: 4664, dtype: int64"
      ]
     },
     "execution_count": 6,
     "metadata": {},
     "output_type": "execute_result"
    }
   ],
   "source": [
    "authors_count = renamed_df[\"Authors\"].value_counts()\n",
    "authors_count"
   ]
  },
  {
   "cell_type": "code",
   "execution_count": 7,
   "metadata": {},
   "outputs": [
    {
     "data": {
      "text/plain": [
       "-1750.0"
      ]
     },
     "execution_count": 7,
     "metadata": {},
     "output_type": "execute_result"
    }
   ],
   "source": [
    "earliest_year = renamed_df[\"Publication Year\"].min()\n",
    "earliest_year"
   ]
  },
  {
   "cell_type": "code",
   "execution_count": 8,
   "metadata": {},
   "outputs": [
    {
     "data": {
      "text/plain": [
       "2017.0"
      ]
     },
     "execution_count": 8,
     "metadata": {},
     "output_type": "execute_result"
    }
   ],
   "source": [
    "latest_year = renamed_df[\"Publication Year\"].max()\n",
    "latest_year"
   ]
  },
  {
   "cell_type": "code",
   "execution_count": 9,
   "metadata": {},
   "outputs": [
    {
     "data": {
      "text/plain": [
       "One Star Reviews       13450406\n",
       "Two Star Reviews       31108850\n",
       "Three Star Reviews    114758938\n",
       "Four Star Reviews     199656966\n",
       "Five Star Reviews     237898056\n",
       "dtype: int64"
      ]
     },
     "execution_count": 9,
     "metadata": {},
     "output_type": "execute_result"
    }
   ],
   "source": [
    "total_reviews_count = renamed_df[[\"One Star Reviews\", \"Two Star Reviews\", \"Three Star Reviews\", \"Four Star Reviews\",\n",
    "                                 \"Five Star Reviews\"]].sum()\n",
    "total_reviews_count"
   ]
  },
  {
   "cell_type": "code",
   "execution_count": null,
   "metadata": {},
   "outputs": [],
   "source": []
  }
 ],
 "metadata": {
  "kernelspec": {
   "display_name": "Python 3",
   "language": "python",
   "name": "python3"
  },
  "language_info": {
   "codemirror_mode": {
    "name": "ipython",
    "version": 3
   },
   "file_extension": ".py",
   "mimetype": "text/x-python",
   "name": "python",
   "nbconvert_exporter": "python",
   "pygments_lexer": "ipython3",
   "version": "3.6.8"
  }
 },
 "nbformat": 4,
 "nbformat_minor": 2
}
