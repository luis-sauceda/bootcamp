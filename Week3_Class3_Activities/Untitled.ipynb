{
 "cells": [
  {
   "cell_type": "code",
   "execution_count": 239,
   "metadata": {},
   "outputs": [],
   "source": [
    "import os\n",
    "import csv"
   ]
  },
  {
   "cell_type": "code",
   "execution_count": 240,
   "metadata": {},
   "outputs": [],
   "source": [
    "file_path = os.path.join(\"C:\\\\Users\\\\lsauc\\\\Documents\\\\BootCamp\\\\python-challenge\\\\PyPoll\",\"election_test.csv\")"
   ]
  },
  {
   "cell_type": "code",
   "execution_count": 241,
   "metadata": {},
   "outputs": [],
   "source": [
    "total_votes = 0\n",
    "candidates = []\n",
    "votes = {}\n"
   ]
  },
  {
   "cell_type": "code",
   "execution_count": 243,
   "metadata": {},
   "outputs": [
    {
     "name": "stdout",
     "output_type": "stream",
     "text": [
      "Li had 33642 votes accounting for 13.901538003818152%\n",
      "Khan had 152506 votes accounting for 63.018487450516936%\n",
      "O'Tooley had 7314 votes accounting for 3.022289071991141%\n",
      "Correy had 48540 votes accounting for 20.05768547367377%\n",
      "the winner of the election is Khan\n"
     ]
    }
   ],
   "source": [
    "with open(file_path, newline = '') as csvfile:\n",
    "    csv_reader = csv.DictReader(csvfile)\n",
    "\n",
    "    for row in csv_reader:\n",
    "        total_votes += 1\n",
    "        if row[\"Candidate\"] not in candidates:\n",
    "          candidates.append(row[\"Candidate\"])\n",
    "          votes.update({row[\"Candidate\"]: 1})\n",
    "            #candidates.update(new_val)\n",
    "        else:\n",
    "            vote = votes[row[\"Candidate\"]]\n",
    "            vote += 1\n",
    "            \n",
    "            votes.update({row[\"Candidate\"]: vote})\n",
    "\n",
    "def percentage(votes_count, total):\n",
    "    return (votes_count / total) * 100\n",
    "\n",
    "winner = \"\"\n",
    "winner_votes = 0\n",
    "for candidate, val in votes.items():\n",
    "    print (candidate + \" had \" + str(val) + \" votes accounting for \" + str(percentage(val, total_votes)) + \"%\")\n",
    "    \n",
    "    if val > winner_votes:\n",
    "        winner_votes = val\n",
    "        winner = candidate\n",
    "    \n",
    "print (\"the winner of the election is \" + winner)"
   ]
  },
  {
   "cell_type": "code",
   "execution_count": null,
   "metadata": {},
   "outputs": [],
   "source": []
  },
  {
   "cell_type": "code",
   "execution_count": null,
   "metadata": {},
   "outputs": [],
   "source": [
    "#cand_list\n"
   ]
  },
  {
   "cell_type": "code",
   "execution_count": null,
   "metadata": {},
   "outputs": [],
   "source": [
    "print(candidates)"
   ]
  },
  {
   "cell_type": "code",
   "execution_count": null,
   "metadata": {},
   "outputs": [],
   "source": []
  }
 ],
 "metadata": {
  "kernelspec": {
   "display_name": "Python 3",
   "language": "python",
   "name": "python3"
  },
  "language_info": {
   "codemirror_mode": {
    "name": "ipython",
    "version": 3
   },
   "file_extension": ".py",
   "mimetype": "text/x-python",
   "name": "python",
   "nbconvert_exporter": "python",
   "pygments_lexer": "ipython3",
   "version": "3.6.8"
  }
 },
 "nbformat": 4,
 "nbformat_minor": 2
}
