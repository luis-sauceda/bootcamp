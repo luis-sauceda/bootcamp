{
 "cells": [
  {
   "cell_type": "code",
   "execution_count": 70,
   "metadata": {},
   "outputs": [],
   "source": [
    "import pandas as pd"
   ]
  },
  {
   "cell_type": "code",
   "execution_count": 71,
   "metadata": {},
   "outputs": [],
   "source": [
    "# The path to our CSV file\n",
    "file = \"KickstarterData.csv\"\n",
    "# Read our Kickstarter data into pandas\n",
    "\n",
    "kicks_df = pd.read_csv(\"KickstarterData.csv\")"
   ]
  },
  {
   "cell_type": "code",
   "execution_count": 72,
   "metadata": {},
   "outputs": [
    {
     "data": {
      "text/plain": [
       "Index(['id', 'photo', 'name', 'blurb', 'goal', 'pledged', 'state', 'slug',\n",
       "       'disable_communication', 'country', 'currency', 'currency_symbol',\n",
       "       'currency_trailing_code', 'deadline', 'state_changed_at', 'created_at',\n",
       "       'launched_at', 'staff_pick', 'is_starrable', 'backers_count',\n",
       "       'static_usd_rate', 'usd_pledged', 'creator', 'location', 'category',\n",
       "       'profile', 'spotlight', 'urls', 'source_url', 'friends', 'is_starred',\n",
       "       'is_backing', 'permissions'],\n",
       "      dtype='object')"
      ]
     },
     "execution_count": 72,
     "metadata": {},
     "output_type": "execute_result"
    }
   ],
   "source": [
    "# Get a list of all of our columns for easy reference\n",
    "kicks_df.columns"
   ]
  },
  {
   "cell_type": "code",
   "execution_count": 73,
   "metadata": {
    "scrolled": true
   },
   "outputs": [],
   "source": [
    "# Extract \"name\", \"goal\", \"pledged\", \"state\", \"country\", \"staff_pick\",\n",
    "# \"backers_count\", and \"spotlight\"\n",
    "kicks_extract = kicks_df.loc[:, [\"name\", \"goal\",\"pledged\",\"state\",\"country\",\"staff_pick\",\"backers_count\",\"spotlight\"]]\n"
   ]
  },
  {
   "cell_type": "code",
   "execution_count": 74,
   "metadata": {
    "scrolled": true
   },
   "outputs": [
    {
     "data": {
      "text/plain": [
       "1.0"
      ]
     },
     "execution_count": 74,
     "metadata": {},
     "output_type": "execute_result"
    }
   ],
   "source": [
    "# Remove projects that made no money at all\n",
    "pledged_no_cero = kicks_extract.loc[kicks_extract[\"pledged\"] > 0]\n",
    "pledged_no_cero[\"pledged\"].min()"
   ]
  },
  {
   "cell_type": "code",
   "execution_count": 75,
   "metadata": {
    "scrolled": true
   },
   "outputs": [
    {
     "data": {
      "text/html": [
       "<div>\n",
       "<style scoped>\n",
       "    .dataframe tbody tr th:only-of-type {\n",
       "        vertical-align: middle;\n",
       "    }\n",
       "\n",
       "    .dataframe tbody tr th {\n",
       "        vertical-align: top;\n",
       "    }\n",
       "\n",
       "    .dataframe thead th {\n",
       "        text-align: right;\n",
       "    }\n",
       "</style>\n",
       "<table border=\"1\" class=\"dataframe\">\n",
       "  <thead>\n",
       "    <tr style=\"text-align: right;\">\n",
       "      <th></th>\n",
       "      <th>name</th>\n",
       "      <th>goal</th>\n",
       "      <th>pledged</th>\n",
       "      <th>state</th>\n",
       "      <th>country</th>\n",
       "      <th>staff_pick</th>\n",
       "      <th>backers_count</th>\n",
       "      <th>spotlight</th>\n",
       "    </tr>\n",
       "  </thead>\n",
       "  <tbody>\n",
       "    <tr>\n",
       "      <th>0</th>\n",
       "      <td>The Class Act Players Theatre Company Presents...</td>\n",
       "      <td>1500.0</td>\n",
       "      <td>2925.0</td>\n",
       "      <td>successful</td>\n",
       "      <td>US</td>\n",
       "      <td>False</td>\n",
       "      <td>17</td>\n",
       "      <td>True</td>\n",
       "    </tr>\n",
       "    <tr>\n",
       "      <th>8</th>\n",
       "      <td>Forefront Festival 2015</td>\n",
       "      <td>7200.0</td>\n",
       "      <td>7230.0</td>\n",
       "      <td>successful</td>\n",
       "      <td>US</td>\n",
       "      <td>False</td>\n",
       "      <td>68</td>\n",
       "      <td>True</td>\n",
       "    </tr>\n",
       "    <tr>\n",
       "      <th>11</th>\n",
       "      <td>Hamlet the Hip-Hopera</td>\n",
       "      <td>9747.0</td>\n",
       "      <td>10103.0</td>\n",
       "      <td>successful</td>\n",
       "      <td>US</td>\n",
       "      <td>True</td>\n",
       "      <td>132</td>\n",
       "      <td>True</td>\n",
       "    </tr>\n",
       "    <tr>\n",
       "      <th>14</th>\n",
       "      <td>Pride Con</td>\n",
       "      <td>15000.0</td>\n",
       "      <td>15110.0</td>\n",
       "      <td>successful</td>\n",
       "      <td>US</td>\n",
       "      <td>False</td>\n",
       "      <td>60</td>\n",
       "      <td>True</td>\n",
       "    </tr>\n",
       "    <tr>\n",
       "      <th>15</th>\n",
       "      <td>En Garde Arts Emerging Artists Festival BOSSS</td>\n",
       "      <td>10000.0</td>\n",
       "      <td>10306.0</td>\n",
       "      <td>successful</td>\n",
       "      <td>US</td>\n",
       "      <td>True</td>\n",
       "      <td>80</td>\n",
       "      <td>True</td>\n",
       "    </tr>\n",
       "  </tbody>\n",
       "</table>\n",
       "</div>"
      ],
      "text/plain": [
       "                                                 name     goal  pledged  \\\n",
       "0   The Class Act Players Theatre Company Presents...   1500.0   2925.0   \n",
       "8                             Forefront Festival 2015   7200.0   7230.0   \n",
       "11                              Hamlet the Hip-Hopera   9747.0  10103.0   \n",
       "14                                          Pride Con  15000.0  15110.0   \n",
       "15      En Garde Arts Emerging Artists Festival BOSSS  10000.0  10306.0   \n",
       "\n",
       "         state country  staff_pick  backers_count  spotlight  \n",
       "0   successful      US       False             17       True  \n",
       "8   successful      US       False             68       True  \n",
       "11  successful      US        True            132       True  \n",
       "14  successful      US       False             60       True  \n",
       "15  successful      US        True             80       True  "
      ]
     },
     "execution_count": 75,
     "metadata": {},
     "output_type": "execute_result"
    }
   ],
   "source": [
    "# Collect only those projects that were hosted in the US\n",
    "us_projects = pledged_no_cero.loc[pledged_no_cero[\"country\"] == \"US\"]\n",
    "\n",
    "# Create a list of the columns\n",
    "columns = us_projects.count()\n",
    "columns\n",
    "# Create a new df for \"US\" with the columns above. \n",
    "us_projects.head()"
   ]
  },
  {
   "cell_type": "code",
   "execution_count": 76,
   "metadata": {},
   "outputs": [
    {
     "name": "stderr",
     "output_type": "stream",
     "text": [
      "C:\\Users\\lsauc\\Anaconda3\\envs\\PhytonData\\lib\\site-packages\\ipykernel_launcher.py:2: SettingWithCopyWarning: \n",
      "A value is trying to be set on a copy of a slice from a DataFrame.\n",
      "Try using .loc[row_indexer,col_indexer] = value instead\n",
      "\n",
      "See the caveats in the documentation: http://pandas.pydata.org/pandas-docs/stable/indexing.html#indexing-view-versus-copy\n",
      "  \n"
     ]
    },
    {
     "data": {
      "text/html": [
       "<div>\n",
       "<style scoped>\n",
       "    .dataframe tbody tr th:only-of-type {\n",
       "        vertical-align: middle;\n",
       "    }\n",
       "\n",
       "    .dataframe tbody tr th {\n",
       "        vertical-align: top;\n",
       "    }\n",
       "\n",
       "    .dataframe thead th {\n",
       "        text-align: right;\n",
       "    }\n",
       "</style>\n",
       "<table border=\"1\" class=\"dataframe\">\n",
       "  <thead>\n",
       "    <tr style=\"text-align: right;\">\n",
       "      <th></th>\n",
       "      <th>name</th>\n",
       "      <th>goal</th>\n",
       "      <th>pledged</th>\n",
       "      <th>state</th>\n",
       "      <th>country</th>\n",
       "      <th>staff_pick</th>\n",
       "      <th>backers_count</th>\n",
       "      <th>spotlight</th>\n",
       "      <th>average_donation</th>\n",
       "    </tr>\n",
       "  </thead>\n",
       "  <tbody>\n",
       "    <tr>\n",
       "      <th>0</th>\n",
       "      <td>The Class Act Players Theatre Company Presents...</td>\n",
       "      <td>1500.0</td>\n",
       "      <td>2925.0</td>\n",
       "      <td>successful</td>\n",
       "      <td>US</td>\n",
       "      <td>False</td>\n",
       "      <td>17</td>\n",
       "      <td>True</td>\n",
       "      <td>172.058824</td>\n",
       "    </tr>\n",
       "    <tr>\n",
       "      <th>8</th>\n",
       "      <td>Forefront Festival 2015</td>\n",
       "      <td>7200.0</td>\n",
       "      <td>7230.0</td>\n",
       "      <td>successful</td>\n",
       "      <td>US</td>\n",
       "      <td>False</td>\n",
       "      <td>68</td>\n",
       "      <td>True</td>\n",
       "      <td>106.323529</td>\n",
       "    </tr>\n",
       "    <tr>\n",
       "      <th>11</th>\n",
       "      <td>Hamlet the Hip-Hopera</td>\n",
       "      <td>9747.0</td>\n",
       "      <td>10103.0</td>\n",
       "      <td>successful</td>\n",
       "      <td>US</td>\n",
       "      <td>True</td>\n",
       "      <td>132</td>\n",
       "      <td>True</td>\n",
       "      <td>76.537879</td>\n",
       "    </tr>\n",
       "    <tr>\n",
       "      <th>14</th>\n",
       "      <td>Pride Con</td>\n",
       "      <td>15000.0</td>\n",
       "      <td>15110.0</td>\n",
       "      <td>successful</td>\n",
       "      <td>US</td>\n",
       "      <td>False</td>\n",
       "      <td>60</td>\n",
       "      <td>True</td>\n",
       "      <td>251.833333</td>\n",
       "    </tr>\n",
       "    <tr>\n",
       "      <th>15</th>\n",
       "      <td>En Garde Arts Emerging Artists Festival BOSSS</td>\n",
       "      <td>10000.0</td>\n",
       "      <td>10306.0</td>\n",
       "      <td>successful</td>\n",
       "      <td>US</td>\n",
       "      <td>True</td>\n",
       "      <td>80</td>\n",
       "      <td>True</td>\n",
       "      <td>128.825000</td>\n",
       "    </tr>\n",
       "  </tbody>\n",
       "</table>\n",
       "</div>"
      ],
      "text/plain": [
       "                                                 name     goal  pledged  \\\n",
       "0   The Class Act Players Theatre Company Presents...   1500.0   2925.0   \n",
       "8                             Forefront Festival 2015   7200.0   7230.0   \n",
       "11                              Hamlet the Hip-Hopera   9747.0  10103.0   \n",
       "14                                          Pride Con  15000.0  15110.0   \n",
       "15      En Garde Arts Emerging Artists Festival BOSSS  10000.0  10306.0   \n",
       "\n",
       "         state country  staff_pick  backers_count  spotlight  average_donation  \n",
       "0   successful      US       False             17       True        172.058824  \n",
       "8   successful      US       False             68       True        106.323529  \n",
       "11  successful      US        True            132       True         76.537879  \n",
       "14  successful      US       False             60       True        251.833333  \n",
       "15  successful      US        True             80       True        128.825000  "
      ]
     },
     "execution_count": 76,
     "metadata": {},
     "output_type": "execute_result"
    }
   ],
   "source": [
    "# Create a new column that finds the average amount pledged to a project\n",
    "us_projects[\"average_donation\"] = us_projects[\"pledged\"] / us_projects[\"backers_count\"]\n",
    "us_projects.head()"
   ]
  },
  {
   "cell_type": "code",
   "execution_count": 77,
   "metadata": {},
   "outputs": [
    {
     "name": "stderr",
     "output_type": "stream",
     "text": [
      "C:\\Users\\lsauc\\Anaconda3\\envs\\PhytonData\\lib\\site-packages\\ipykernel_launcher.py:5: SettingWithCopyWarning: \n",
      "A value is trying to be set on a copy of a slice from a DataFrame.\n",
      "Try using .loc[row_indexer,col_indexer] = value instead\n",
      "\n",
      "See the caveats in the documentation: http://pandas.pydata.org/pandas-docs/stable/indexing.html#indexing-view-versus-copy\n",
      "  \"\"\"\n",
      "C:\\Users\\lsauc\\Anaconda3\\envs\\PhytonData\\lib\\site-packages\\ipykernel_launcher.py:6: SettingWithCopyWarning: \n",
      "A value is trying to be set on a copy of a slice from a DataFrame.\n",
      "Try using .loc[row_indexer,col_indexer] = value instead\n",
      "\n",
      "See the caveats in the documentation: http://pandas.pydata.org/pandas-docs/stable/indexing.html#indexing-view-versus-copy\n",
      "  \n",
      "C:\\Users\\lsauc\\Anaconda3\\envs\\PhytonData\\lib\\site-packages\\ipykernel_launcher.py:7: SettingWithCopyWarning: \n",
      "A value is trying to be set on a copy of a slice from a DataFrame.\n",
      "Try using .loc[row_indexer,col_indexer] = value instead\n",
      "\n",
      "See the caveats in the documentation: http://pandas.pydata.org/pandas-docs/stable/indexing.html#indexing-view-versus-copy\n",
      "  import sys\n"
     ]
    },
    {
     "data": {
      "text/html": [
       "<div>\n",
       "<style scoped>\n",
       "    .dataframe tbody tr th:only-of-type {\n",
       "        vertical-align: middle;\n",
       "    }\n",
       "\n",
       "    .dataframe tbody tr th {\n",
       "        vertical-align: top;\n",
       "    }\n",
       "\n",
       "    .dataframe thead th {\n",
       "        text-align: right;\n",
       "    }\n",
       "</style>\n",
       "<table border=\"1\" class=\"dataframe\">\n",
       "  <thead>\n",
       "    <tr style=\"text-align: right;\">\n",
       "      <th></th>\n",
       "      <th>name</th>\n",
       "      <th>goal</th>\n",
       "      <th>pledged</th>\n",
       "      <th>state</th>\n",
       "      <th>country</th>\n",
       "      <th>staff_pick</th>\n",
       "      <th>backers_count</th>\n",
       "      <th>spotlight</th>\n",
       "      <th>average_donation</th>\n",
       "    </tr>\n",
       "  </thead>\n",
       "  <tbody>\n",
       "    <tr>\n",
       "      <th>0</th>\n",
       "      <td>The Class Act Players Theatre Company Presents...</td>\n",
       "      <td>$1,500.00</td>\n",
       "      <td>$2,925.00</td>\n",
       "      <td>successful</td>\n",
       "      <td>US</td>\n",
       "      <td>False</td>\n",
       "      <td>17</td>\n",
       "      <td>True</td>\n",
       "      <td>$172.06</td>\n",
       "    </tr>\n",
       "    <tr>\n",
       "      <th>8</th>\n",
       "      <td>Forefront Festival 2015</td>\n",
       "      <td>$7,200.00</td>\n",
       "      <td>$7,230.00</td>\n",
       "      <td>successful</td>\n",
       "      <td>US</td>\n",
       "      <td>False</td>\n",
       "      <td>68</td>\n",
       "      <td>True</td>\n",
       "      <td>$106.32</td>\n",
       "    </tr>\n",
       "    <tr>\n",
       "      <th>11</th>\n",
       "      <td>Hamlet the Hip-Hopera</td>\n",
       "      <td>$9,747.00</td>\n",
       "      <td>$10,103.00</td>\n",
       "      <td>successful</td>\n",
       "      <td>US</td>\n",
       "      <td>True</td>\n",
       "      <td>132</td>\n",
       "      <td>True</td>\n",
       "      <td>$76.54</td>\n",
       "    </tr>\n",
       "    <tr>\n",
       "      <th>14</th>\n",
       "      <td>Pride Con</td>\n",
       "      <td>$15,000.00</td>\n",
       "      <td>$15,110.00</td>\n",
       "      <td>successful</td>\n",
       "      <td>US</td>\n",
       "      <td>False</td>\n",
       "      <td>60</td>\n",
       "      <td>True</td>\n",
       "      <td>$251.83</td>\n",
       "    </tr>\n",
       "    <tr>\n",
       "      <th>15</th>\n",
       "      <td>En Garde Arts Emerging Artists Festival BOSSS</td>\n",
       "      <td>$10,000.00</td>\n",
       "      <td>$10,306.00</td>\n",
       "      <td>successful</td>\n",
       "      <td>US</td>\n",
       "      <td>True</td>\n",
       "      <td>80</td>\n",
       "      <td>True</td>\n",
       "      <td>$128.82</td>\n",
       "    </tr>\n",
       "  </tbody>\n",
       "</table>\n",
       "</div>"
      ],
      "text/plain": [
       "                                                 name        goal     pledged  \\\n",
       "0   The Class Act Players Theatre Company Presents...   $1,500.00   $2,925.00   \n",
       "8                             Forefront Festival 2015   $7,200.00   $7,230.00   \n",
       "11                              Hamlet the Hip-Hopera   $9,747.00  $10,103.00   \n",
       "14                                          Pride Con  $15,000.00  $15,110.00   \n",
       "15      En Garde Arts Emerging Artists Festival BOSSS  $10,000.00  $10,306.00   \n",
       "\n",
       "         state country  staff_pick  backers_count  spotlight average_donation  \n",
       "0   successful      US       False             17       True          $172.06  \n",
       "8   successful      US       False             68       True          $106.32  \n",
       "11  successful      US        True            132       True           $76.54  \n",
       "14  successful      US       False             60       True          $251.83  \n",
       "15  successful      US        True             80       True          $128.82  "
      ]
     },
     "execution_count": 77,
     "metadata": {},
     "output_type": "execute_result"
    }
   ],
   "source": [
    "# First convert \"average_donation\", \"goal\", and \"pledged\" columns to float\n",
    "# Then Format to go to two decimal places, include a dollar sign, and use comma notation\n",
    "\n",
    "us_projects[\"average_donation\"] = us_projects[\"average_donation\"].astype(float).map(\n",
    "    \"${:,.2f}\".format)\n",
    "us_projects[\"goal\"] = us_projects[\"goal\"].astype(float).map(\"${:,.2f}\".format)\n",
    "us_projects[\"pledged\"] = us_projects[\"pledged\"].astype(float).map(\"${:,.2f}\".format)\n",
    "us_projects.head()"
   ]
  },
  {
   "cell_type": "code",
   "execution_count": 78,
   "metadata": {},
   "outputs": [
    {
     "data": {
      "text/plain": [
       "89273"
      ]
     },
     "execution_count": 78,
     "metadata": {},
     "output_type": "execute_result"
    }
   ],
   "source": [
    "# Calculate the total number of backers for all US projects\n",
    "total_backers = us_projects[\"backers_count\"].sum()\n",
    "total_backers"
   ]
  },
  {
   "cell_type": "code",
   "execution_count": 79,
   "metadata": {},
   "outputs": [
    {
     "data": {
      "text/plain": [
       "41.931892907468296"
      ]
     },
     "execution_count": 79,
     "metadata": {},
     "output_type": "execute_result"
    }
   ],
   "source": [
    "# Calculate the average number of backers for all US projects\n",
    "average_backers = total_backers / us_projects[\"backers_count\"].count()\n",
    "average_backers"
   ]
  },
  {
   "cell_type": "code",
   "execution_count": 85,
   "metadata": {
    "scrolled": true
   },
   "outputs": [
    {
     "data": {
      "text/html": [
       "<div>\n",
       "<style scoped>\n",
       "    .dataframe tbody tr th:only-of-type {\n",
       "        vertical-align: middle;\n",
       "    }\n",
       "\n",
       "    .dataframe tbody tr th {\n",
       "        vertical-align: top;\n",
       "    }\n",
       "\n",
       "    .dataframe thead th {\n",
       "        text-align: right;\n",
       "    }\n",
       "</style>\n",
       "<table border=\"1\" class=\"dataframe\">\n",
       "  <thead>\n",
       "    <tr style=\"text-align: right;\">\n",
       "      <th></th>\n",
       "      <th>name</th>\n",
       "      <th>goal</th>\n",
       "      <th>pledged</th>\n",
       "      <th>state</th>\n",
       "      <th>country</th>\n",
       "      <th>staff_pick</th>\n",
       "      <th>backers_count</th>\n",
       "      <th>spotlight</th>\n",
       "      <th>average_donation</th>\n",
       "    </tr>\n",
       "  </thead>\n",
       "  <tbody>\n",
       "    <tr>\n",
       "      <th>11</th>\n",
       "      <td>Hamlet the Hip-Hopera</td>\n",
       "      <td>$9,747.00</td>\n",
       "      <td>$10,103.00</td>\n",
       "      <td>successful</td>\n",
       "      <td>US</td>\n",
       "      <td>True</td>\n",
       "      <td>132</td>\n",
       "      <td>True</td>\n",
       "      <td>$76.54</td>\n",
       "    </tr>\n",
       "    <tr>\n",
       "      <th>15</th>\n",
       "      <td>En Garde Arts Emerging Artists Festival BOSSS</td>\n",
       "      <td>$10,000.00</td>\n",
       "      <td>$10,306.00</td>\n",
       "      <td>successful</td>\n",
       "      <td>US</td>\n",
       "      <td>True</td>\n",
       "      <td>80</td>\n",
       "      <td>True</td>\n",
       "      <td>$128.82</td>\n",
       "    </tr>\n",
       "    <tr>\n",
       "      <th>39</th>\n",
       "      <td>\"Poor People\" at FringeNYC 2015</td>\n",
       "      <td>$5,500.00</td>\n",
       "      <td>$5,682.00</td>\n",
       "      <td>successful</td>\n",
       "      <td>US</td>\n",
       "      <td>True</td>\n",
       "      <td>34</td>\n",
       "      <td>True</td>\n",
       "      <td>$167.12</td>\n",
       "    </tr>\n",
       "    <tr>\n",
       "      <th>44</th>\n",
       "      <td>Queen Mab's Steampunk and Fairie Street Festival</td>\n",
       "      <td>$1,300.00</td>\n",
       "      <td>$3,363.00</td>\n",
       "      <td>successful</td>\n",
       "      <td>US</td>\n",
       "      <td>True</td>\n",
       "      <td>62</td>\n",
       "      <td>True</td>\n",
       "      <td>$54.24</td>\n",
       "    </tr>\n",
       "    <tr>\n",
       "      <th>45</th>\n",
       "      <td>RAFT: a new play by Emily Kitchens</td>\n",
       "      <td>$7,500.00</td>\n",
       "      <td>$7,826.00</td>\n",
       "      <td>successful</td>\n",
       "      <td>US</td>\n",
       "      <td>True</td>\n",
       "      <td>120</td>\n",
       "      <td>True</td>\n",
       "      <td>$65.22</td>\n",
       "    </tr>\n",
       "  </tbody>\n",
       "</table>\n",
       "</div>"
      ],
      "text/plain": [
       "                                                name        goal     pledged  \\\n",
       "11                             Hamlet the Hip-Hopera   $9,747.00  $10,103.00   \n",
       "15     En Garde Arts Emerging Artists Festival BOSSS  $10,000.00  $10,306.00   \n",
       "39                   \"Poor People\" at FringeNYC 2015   $5,500.00   $5,682.00   \n",
       "44  Queen Mab's Steampunk and Fairie Street Festival   $1,300.00   $3,363.00   \n",
       "45                RAFT: a new play by Emily Kitchens   $7,500.00   $7,826.00   \n",
       "\n",
       "         state country  staff_pick  backers_count  spotlight average_donation  \n",
       "11  successful      US        True            132       True           $76.54  \n",
       "15  successful      US        True             80       True          $128.82  \n",
       "39  successful      US        True             34       True          $167.12  \n",
       "44  successful      US        True             62       True           $54.24  \n",
       "45  successful      US        True            120       True           $65.22  "
      ]
     },
     "execution_count": 85,
     "metadata": {},
     "output_type": "execute_result"
    }
   ],
   "source": [
    "# Collect only those US campaigns that have been picked as a \"Staff Pick\"\n",
    "#us_projects = pledged_no_cero.loc[pledged_no_cero[\"country\"] == \"US\"]\n",
    "\n",
    "only_staff_picked_df = us_projects.loc[us_projects[\"staff_pick\"] == True]\n",
    "only_staff_picked_df.head()"
   ]
  },
  {
   "cell_type": "code",
   "execution_count": 92,
   "metadata": {},
   "outputs": [
    {
     "data": {
      "text/plain": [
       "state\n",
       "canceled        6\n",
       "failed         21\n",
       "live            2\n",
       "successful    145\n",
       "Name: name, dtype: int64"
      ]
     },
     "execution_count": 92,
     "metadata": {},
     "output_type": "execute_result"
    }
   ],
   "source": [
    "# Group by the state of the campaigns and see if staff picks matter (Seems to matter quite a bit)\n",
    "grouped_df = only_staff_picked_df.groupby(\"state\")\n",
    "grouped_df[\"name\"].count()"
   ]
  },
  {
   "cell_type": "code",
   "execution_count": null,
   "metadata": {},
   "outputs": [],
   "source": []
  }
 ],
 "metadata": {
  "kernelspec": {
   "display_name": "Python 3",
   "language": "python",
   "name": "python3"
  },
  "language_info": {
   "codemirror_mode": {
    "name": "ipython",
    "version": 3
   },
   "file_extension": ".py",
   "mimetype": "text/x-python",
   "name": "python",
   "nbconvert_exporter": "python",
   "pygments_lexer": "ipython3",
   "version": "3.6.8"
  }
 },
 "nbformat": 4,
 "nbformat_minor": 2
}
