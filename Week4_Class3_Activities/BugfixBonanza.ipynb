{
 "cells": [
  {
   "cell_type": "code",
   "execution_count": 1,
   "metadata": {},
   "outputs": [],
   "source": [
    "import pandas as pd\n",
    "# Create a reference to the CSV and import it into a Pandas DataFrame\n",
    "csv_path = \"Resources_EclipseBugs.csv\"\n",
    "eclipse_df = pd.read_csv(csv_path)"
   ]
  },
  {
   "cell_type": "code",
   "execution_count": 4,
   "metadata": {},
   "outputs": [
    {
     "data": {
      "text/plain": [
       "Index(['Bug\\nID', 'Product', 'Component', 'Assignee', 'Status', 'Resolution',\n",
       "       'Summary', 'Changed', 'Assignee\\nReal\\nName', 'Classification',\n",
       "       'Hardware', 'Number of\\nComments', 'Opened', 'OS', 'Priority',\n",
       "       'Reporter', 'Reporter\\nReal\\nName', 'Severity', 'Target\\nMilestone',\n",
       "       'Version', 'Votes'],\n",
       "      dtype='object')"
      ]
     },
     "execution_count": 4,
     "metadata": {},
     "output_type": "execute_result"
    }
   ],
   "source": [
    "eclipse_df.columns"
   ]
  },
  {
   "cell_type": "code",
   "execution_count": 22,
   "metadata": {},
   "outputs": [
    {
     "data": {
      "text/plain": [
       "8.75"
      ]
     },
     "execution_count": 22,
     "metadata": {},
     "output_type": "execute_result"
    }
   ],
   "source": [
    "# Finding the average number of comments per bug\n",
    "eclipse_df = eclipse_df.rename(columns ={\"Number of\\nComments\": \"Number_of_Comments\",\"Bug\\nID\": \"Bug_ID\", \n",
    "                                         \"Assignee\\nReal\\nName\": \"Assignee_Real_Name\", \"Reporter\\nReal\\nName\": \"Reporter_Real_Name\",\n",
    "                                        \"Target\\nMilestone\": \"Target_Milestone\"})\n",
    "eclipse_df.head()\n",
    "\n",
    "average_comments = eclipse_df[\"Number_of_Comments\"].mean()\n",
    "average_comments"
   ]
  },
  {
   "cell_type": "code",
   "execution_count": 69,
   "metadata": {},
   "outputs": [
    {
     "data": {
      "text/html": [
       "<div>\n",
       "<style scoped>\n",
       "    .dataframe tbody tr th:only-of-type {\n",
       "        vertical-align: middle;\n",
       "    }\n",
       "\n",
       "    .dataframe tbody tr th {\n",
       "        vertical-align: top;\n",
       "    }\n",
       "\n",
       "    .dataframe thead th {\n",
       "        text-align: right;\n",
       "    }\n",
       "</style>\n",
       "<table border=\"1\" class=\"dataframe\">\n",
       "  <thead>\n",
       "    <tr style=\"text-align: right;\">\n",
       "      <th></th>\n",
       "      <th></th>\n",
       "      <th>Component</th>\n",
       "    </tr>\n",
       "    <tr>\n",
       "      <th>Assignee</th>\n",
       "      <th>Component</th>\n",
       "      <th></th>\n",
       "    </tr>\n",
       "  </thead>\n",
       "  <tbody>\n",
       "    <tr>\n",
       "      <th>Aaron_Ferguson</th>\n",
       "      <th>UI</th>\n",
       "      <td>10</td>\n",
       "    </tr>\n",
       "    <tr>\n",
       "      <th>Adam_Schlegel</th>\n",
       "      <th>UI</th>\n",
       "      <td>7</td>\n",
       "    </tr>\n",
       "    <tr>\n",
       "      <th>ChrisAustin</th>\n",
       "      <th>User Assistance</th>\n",
       "      <td>3</td>\n",
       "    </tr>\n",
       "    <tr>\n",
       "      <th rowspan=\"2\" valign=\"top\">Claude_Knaus</th>\n",
       "      <th>UI</th>\n",
       "      <td>31</td>\n",
       "    </tr>\n",
       "    <tr>\n",
       "      <th>Text</th>\n",
       "      <td>7</td>\n",
       "    </tr>\n",
       "  </tbody>\n",
       "</table>\n",
       "</div>"
      ],
      "text/plain": [
       "                                Component\n",
       "Assignee       Component                 \n",
       "Aaron_Ferguson UI                      10\n",
       "Adam_Schlegel  UI                       7\n",
       "ChrisAustin    User Assistance          3\n",
       "Claude_Knaus   UI                      31\n",
       "               Text                     7"
      ]
     },
     "execution_count": 69,
     "metadata": {},
     "output_type": "execute_result"
    }
   ],
   "source": [
    "# Grouping the DataFrame by \"Assignee\"\n",
    "assignee_group = eclipse_df.groupby(\"Assignee\")\n",
    "\n",
    "# Count how many of each component Assignees worked on and create DataFrame\n",
    "assignee_work = pd.DataFrame(assignee_group[\"Component\"].value_counts())\n",
    "assignee_work.head()"
   ]
  },
  {
   "cell_type": "code",
   "execution_count": 70,
   "metadata": {},
   "outputs": [
    {
     "data": {
      "text/html": [
       "<div>\n",
       "<style scoped>\n",
       "    .dataframe tbody tr th:only-of-type {\n",
       "        vertical-align: middle;\n",
       "    }\n",
       "\n",
       "    .dataframe tbody tr th {\n",
       "        vertical-align: top;\n",
       "    }\n",
       "\n",
       "    .dataframe thead th {\n",
       "        text-align: right;\n",
       "    }\n",
       "</style>\n",
       "<table border=\"1\" class=\"dataframe\">\n",
       "  <thead>\n",
       "    <tr style=\"text-align: right;\">\n",
       "      <th></th>\n",
       "      <th></th>\n",
       "      <th>Component_Bug_Count</th>\n",
       "    </tr>\n",
       "    <tr>\n",
       "      <th>Assignee</th>\n",
       "      <th>Component</th>\n",
       "      <th></th>\n",
       "    </tr>\n",
       "  </thead>\n",
       "  <tbody>\n",
       "    <tr>\n",
       "      <th>Aaron_Ferguson</th>\n",
       "      <th>UI</th>\n",
       "      <td>10</td>\n",
       "    </tr>\n",
       "    <tr>\n",
       "      <th>Adam_Schlegel</th>\n",
       "      <th>UI</th>\n",
       "      <td>7</td>\n",
       "    </tr>\n",
       "    <tr>\n",
       "      <th>ChrisAustin</th>\n",
       "      <th>User Assistance</th>\n",
       "      <td>3</td>\n",
       "    </tr>\n",
       "    <tr>\n",
       "      <th rowspan=\"2\" valign=\"top\">Claude_Knaus</th>\n",
       "      <th>UI</th>\n",
       "      <td>31</td>\n",
       "    </tr>\n",
       "    <tr>\n",
       "      <th>Text</th>\n",
       "      <td>7</td>\n",
       "    </tr>\n",
       "  </tbody>\n",
       "</table>\n",
       "</div>"
      ],
      "text/plain": [
       "                                Component_Bug_Count\n",
       "Assignee       Component                           \n",
       "Aaron_Ferguson UI                                10\n",
       "Adam_Schlegel  UI                                 7\n",
       "ChrisAustin    User Assistance                    3\n",
       "Claude_Knaus   UI                                31\n",
       "               Text                               7"
      ]
     },
     "execution_count": 70,
     "metadata": {},
     "output_type": "execute_result"
    }
   ],
   "source": [
    "# Rename the \"Component\" column to \"Component Bug Count\"\n",
    "assignee_work = assignee_work.rename(columns = {\"Component\": \"Component_Bug_Count\"})\n",
    "assignee_work.head()"
   ]
  },
  {
   "cell_type": "code",
   "execution_count": 71,
   "metadata": {},
   "outputs": [
    {
     "data": {
      "text/html": [
       "<div>\n",
       "<style scoped>\n",
       "    .dataframe tbody tr th:only-of-type {\n",
       "        vertical-align: middle;\n",
       "    }\n",
       "\n",
       "    .dataframe tbody tr th {\n",
       "        vertical-align: top;\n",
       "    }\n",
       "\n",
       "    .dataframe thead th {\n",
       "        text-align: right;\n",
       "    }\n",
       "</style>\n",
       "<table border=\"1\" class=\"dataframe\">\n",
       "  <thead>\n",
       "    <tr style=\"text-align: right;\">\n",
       "      <th></th>\n",
       "      <th></th>\n",
       "      <th>Component_Bug_Count</th>\n",
       "    </tr>\n",
       "    <tr>\n",
       "      <th>Assignee</th>\n",
       "      <th>Component</th>\n",
       "      <th></th>\n",
       "    </tr>\n",
       "  </thead>\n",
       "  <tbody>\n",
       "    <tr>\n",
       "      <th>Aaron_Ferguson</th>\n",
       "      <th>UI</th>\n",
       "      <td>0.10</td>\n",
       "    </tr>\n",
       "    <tr>\n",
       "      <th>Adam_Schlegel</th>\n",
       "      <th>UI</th>\n",
       "      <td>0.07</td>\n",
       "    </tr>\n",
       "    <tr>\n",
       "      <th>ChrisAustin</th>\n",
       "      <th>User Assistance</th>\n",
       "      <td>0.03</td>\n",
       "    </tr>\n",
       "    <tr>\n",
       "      <th rowspan=\"2\" valign=\"top\">Claude_Knaus</th>\n",
       "      <th>UI</th>\n",
       "      <td>0.31</td>\n",
       "    </tr>\n",
       "    <tr>\n",
       "      <th>Text</th>\n",
       "      <td>0.07</td>\n",
       "    </tr>\n",
       "  </tbody>\n",
       "</table>\n",
       "</div>"
      ],
      "text/plain": [
       "                                Component_Bug_Count\n",
       "Assignee       Component                           \n",
       "Aaron_Ferguson UI                              0.10\n",
       "Adam_Schlegel  UI                              0.07\n",
       "ChrisAustin    User Assistance                 0.03\n",
       "Claude_Knaus   UI                              0.31\n",
       "               Text                            0.07"
      ]
     },
     "execution_count": 71,
     "metadata": {},
     "output_type": "execute_result"
    }
   ],
   "source": [
    "# Find the percentage of bugs overall fixed by each Assignee\n",
    "total_bugs = assignee_work[\"Component_Bug_Count\"].sum()\n",
    "#bugs_per_user = assignee_work[\"Assignee\"].value_counts()\n",
    "\n",
    "#total_bugs\n",
    "#assignee_work[\"percentage\"] = (assignee_work[\"Component_Bug_Count\"] / total_bugs)*100\n",
    "\n",
    "user_bug_percent = pd.DataFrame((assignee_work[\"Component_Bug_Count\"] / total_bugs)*100)\n",
    "user_bug_percent.head()\n",
    "#bugs_per_user"
   ]
  },
  {
   "cell_type": "code",
   "execution_count": 74,
   "metadata": {},
   "outputs": [
    {
     "data": {
      "text/html": [
       "<div>\n",
       "<style scoped>\n",
       "    .dataframe tbody tr th:only-of-type {\n",
       "        vertical-align: middle;\n",
       "    }\n",
       "\n",
       "    .dataframe tbody tr th {\n",
       "        vertical-align: top;\n",
       "    }\n",
       "\n",
       "    .dataframe thead th {\n",
       "        text-align: right;\n",
       "    }\n",
       "</style>\n",
       "<table border=\"1\" class=\"dataframe\">\n",
       "  <thead>\n",
       "    <tr style=\"text-align: right;\">\n",
       "      <th></th>\n",
       "      <th>Component_Bug_Count_x</th>\n",
       "      <th>Component_Bug_Count_y</th>\n",
       "    </tr>\n",
       "    <tr>\n",
       "      <th>Assignee</th>\n",
       "      <th></th>\n",
       "      <th></th>\n",
       "    </tr>\n",
       "  </thead>\n",
       "  <tbody>\n",
       "    <tr>\n",
       "      <th>Aaron_Ferguson</th>\n",
       "      <td>10</td>\n",
       "      <td>0.10</td>\n",
       "    </tr>\n",
       "    <tr>\n",
       "      <th>Adam_Schlegel</th>\n",
       "      <td>7</td>\n",
       "      <td>0.07</td>\n",
       "    </tr>\n",
       "    <tr>\n",
       "      <th>ChrisAustin</th>\n",
       "      <td>3</td>\n",
       "      <td>0.03</td>\n",
       "    </tr>\n",
       "    <tr>\n",
       "      <th>Claude_Knaus</th>\n",
       "      <td>31</td>\n",
       "      <td>0.31</td>\n",
       "    </tr>\n",
       "    <tr>\n",
       "      <th>Claude_Knaus</th>\n",
       "      <td>31</td>\n",
       "      <td>0.07</td>\n",
       "    </tr>\n",
       "  </tbody>\n",
       "</table>\n",
       "</div>"
      ],
      "text/plain": [
       "                Component_Bug_Count_x  Component_Bug_Count_y\n",
       "Assignee                                                    \n",
       "Aaron_Ferguson                     10                   0.10\n",
       "Adam_Schlegel                       7                   0.07\n",
       "ChrisAustin                         3                   0.03\n",
       "Claude_Knaus                       31                   0.31\n",
       "Claude_Knaus                       31                   0.07"
      ]
     },
     "execution_count": 74,
     "metadata": {},
     "output_type": "execute_result"
    }
   ],
   "source": [
    "# Merge the \"Percent of Total Bugs Assigned\" into the DataFrame\n",
    "newassignee_work = assignee_work.merge(user_bug_percent, on=\"Assignee\")\n",
    "\n",
    "# Remove the extra columns\n",
    "#assignee_work = assignee_work[;, [\n",
    "#    \"Assignee\", \"Percent_of_Total_Bugs\", \"Component\", \"Component_Bug_Count\"]]\n",
    "newassignee_work.head()"
   ]
  },
  {
   "cell_type": "code",
   "execution_count": null,
   "metadata": {},
   "outputs": [],
   "source": []
  }
 ],
 "metadata": {
  "kernelspec": {
   "display_name": "Python 3",
   "language": "python",
   "name": "python3"
  },
  "language_info": {
   "codemirror_mode": {
    "name": "ipython",
    "version": 3
   },
   "file_extension": ".py",
   "mimetype": "text/x-python",
   "name": "python",
   "nbconvert_exporter": "python",
   "pygments_lexer": "ipython3",
   "version": "3.6.8"
  }
 },
 "nbformat": 4,
 "nbformat_minor": 2
}
