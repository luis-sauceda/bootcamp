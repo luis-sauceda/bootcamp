{
 "cells": [
  {
   "cell_type": "code",
   "execution_count": 12,
   "metadata": {},
   "outputs": [],
   "source": [
    "# Dependencies\n",
    "import json\n",
    "import os\n",
    "\n",
    "# Load JSON\n",
    "filepath = os.path.join(\"Resources_youtube_response.json\")\n",
    "with open(filepath) as jsonfile:\n",
    "    json_data = json.load(jsonfile)"
   ]
  },
  {
   "cell_type": "code",
   "execution_count": 13,
   "metadata": {},
   "outputs": [
    {
     "name": "stdout",
     "output_type": "stream",
     "text": [
      "{\n",
      "    \"apiVersion\": \"2.0\",\n",
      "    \"data\": {\n",
      "        \"items\": [\n",
      "            {\n",
      "                \"accessControl\": {\n",
      "                    \"comment\": \"allowed\",\n",
      "                    \"commentVote\": \"allowed\",\n",
      "                    \"embed\": \"allowed\",\n",
      "                    \"list\": \"allowed\",\n",
      "                    \"rate\": \"allowed\",\n",
      "                    \"syndicate\": \"allowed\",\n",
      "                    \"videoRespond\": \"moderated\"\n",
      "                },\n",
      "                \"aspectRatio\": \"widescreen\",\n",
      "                \"category\": \"News\",\n",
      "                \"commentCount\": 22,\n",
      "                \"content\": {\n",
      "                    \"1\": \"rtsp://v5.cache3.c.youtube.com/CiILENy.../0/0/0/video.3gp\",\n",
      "                    \"5\": \"http://www.youtube.com/v/hYB0mn5zh2c?f...\",\n",
      "                    \"6\": \"rtsp://v1.cache1.c.youtube.com/CiILENy.../0/0/0/video.3gp\"\n",
      "                },\n",
      "                \"description\": \"Google Maps API Introduction ...\",\n",
      "                \"duration\": 2840,\n",
      "                \"favoriteCount\": 201,\n",
      "                \"id\": \"hYB0mn5zh2c\",\n",
      "                \"player\": {\n",
      "                    \"default\": \"http://www.youtube.com/watch?vu003dhYB0mn5zh2c\"\n",
      "                },\n",
      "                \"rating\": 4.63,\n",
      "                \"ratingCount\": 68,\n",
      "                \"status\": {\n",
      "                    \"reason\": \"limitedSyndication\",\n",
      "                    \"value\": \"restricted\"\n",
      "                },\n",
      "                \"tags\": [\n",
      "                    \"GDD07\",\n",
      "                    \"GDD07US\",\n",
      "                    \"Maps\"\n",
      "                ],\n",
      "                \"thumbnail\": {\n",
      "                    \"default\": \"http://i.ytimg.com/vi/hYB0mn5zh2c/default.jpg\",\n",
      "                    \"hqDefault\": \"http://i.ytimg.com/vi/hYB0mn5zh2c/hqdefault.jpg\"\n",
      "                },\n",
      "                \"title\": \"Google Developers Day US - Maps API Introduction\",\n",
      "                \"updated\": \"2010-01-07T13:26:50.000Z\",\n",
      "                \"uploaded\": \"2007-06-05T22:07:03.000Z\",\n",
      "                \"uploader\": \"GoogleDeveloperDay\",\n",
      "                \"viewCount\": 220101\n",
      "            }\n",
      "        ],\n",
      "        \"itemsPerPage\": 1,\n",
      "        \"startIndex\": 1,\n",
      "        \"totalItems\": 800,\n",
      "        \"updated\": \"2010-01-07T19:58:42.949Z\"\n",
      "    }\n",
      "}\n"
     ]
    }
   ],
   "source": [
    "print(json.dumps(json_data, indent=4, sort_keys=True))"
   ]
  },
  {
   "cell_type": "code",
   "execution_count": 18,
   "metadata": {},
   "outputs": [
    {
     "name": "stdout",
     "output_type": "stream",
     "text": [
      "Google Developers Day US - Maps API Introduction\n"
     ]
    }
   ],
   "source": [
    "data = json_data[\"data\"]\n",
    "items = data[\"items\"]\n",
    "title = items[0][\"title\"]\n",
    "print(title)"
   ]
  },
  {
   "cell_type": "code",
   "execution_count": null,
   "metadata": {},
   "outputs": [],
   "source": []
  }
 ],
 "metadata": {
  "kernelspec": {
   "display_name": "Python 3",
   "language": "python",
   "name": "python3"
  },
  "language_info": {
   "codemirror_mode": {
    "name": "ipython",
    "version": 3
   },
   "file_extension": ".py",
   "mimetype": "text/x-python",
   "name": "python",
   "nbconvert_exporter": "python",
   "pygments_lexer": "ipython3",
   "version": "3.6.8"
  }
 },
 "nbformat": 4,
 "nbformat_minor": 2
}
