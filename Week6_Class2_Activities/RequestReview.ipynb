{
 "cells": [
  {
   "cell_type": "code",
   "execution_count": 1,
   "metadata": {},
   "outputs": [],
   "source": [
    "# Dependencies\n",
    "import json\n",
    "import requests "
   ]
  },
  {
   "cell_type": "code",
   "execution_count": 2,
   "metadata": {},
   "outputs": [],
   "source": [
    "# Specify the URL\n",
    "url = \"http://nyt-mongo-scraper.herokuapp.com/api/headlines\"\n",
    "\n",
    "# Make request and store response\n",
    "response = requests.get(url).json()"
   ]
  },
  {
   "cell_type": "code",
   "execution_count": 5,
   "metadata": {},
   "outputs": [
    {
     "name": "stdout",
     "output_type": "stream",
     "text": [
      "[\n",
      "    {\n",
      "        \"__v\": 0,\n",
      "        \"_id\": \"5d1e8f883c2a290015ecdd73\",\n",
      "        \"date\": \"2019-07-04T23:45:12.446Z\",\n",
      "        \"headline\": \"Can\\u2019t Get to the Beach? These Novels Take You There\",\n",
      "        \"saved\": false,\n",
      "        \"summary\": \"Pick up one of these to feel the sand beneath your toes and smell the salty, tangy ocean air.\",\n",
      "        \"url\": \"https://www.nytimes.com/2019/07/04/books/best-beach-books.html\"\n",
      "    },\n",
      "    {\n",
      "        \"__v\": 0,\n",
      "        \"_id\": \"5d1e8f883c2a290015ecdd72\",\n",
      "        \"date\": \"2019-07-04T23:45:12.446Z\",\n",
      "        \"headline\": \"Drink a Pint, Waste Less Food\",\n",
      "        \"saved\": false,\n",
      "        \"summary\": \"A brewery in Manchester, England, has been using discarded breakfast cereal to make beer in a project intended to address the issue of waste.\",\n",
      "        \"url\": \"https://www.nytimes.com/2019/07/03/business/media/beer-cereal-food-waste.html\"\n",
      "    },\n",
      "    {\n",
      "        \"__v\": 0,\n",
      "        \"_id\": \"5d1e8f883c2a290015ecdd71\",\n",
      "        \"date\": \"2019-07-04T23:45:12.445Z\",\n",
      "        \"headline\": \"My Kids Are Lucky to Be Growing Up in America\",\n",
      "        \"saved\": false,\n",
      "        \"summary\": \"I wonder whether my liberal neighbors know how fortunate we are.\",\n",
      "        \"url\": \"https://www.nytimes.com/2019/07/03/opinion/american-kids.html\"\n",
      "    }\n",
      "]\n"
     ]
    }
   ],
   "source": [
    "# JSON-ify response\n",
    "print(json.dumps(response, indent=4, sort_keys=True))"
   ]
  },
  {
   "cell_type": "code",
   "execution_count": 6,
   "metadata": {
    "scrolled": true
   },
   "outputs": [
    {
     "name": "stdout",
     "output_type": "stream",
     "text": [
      "Can’t Get to the Beach? These Novels Take You There\n",
      "My Kids Are Lucky to Be Growing Up in America\n"
     ]
    }
   ],
   "source": [
    "# Print first and last articles\n",
    "first_art = response[0][\"headline\"]\n",
    "last_art = response[2][\"headline\"]\n",
    "\n",
    "print(first_art)\n",
    "print(last_art)"
   ]
  },
  {
   "cell_type": "code",
   "execution_count": 12,
   "metadata": {},
   "outputs": [
    {
     "name": "stdout",
     "output_type": "stream",
     "text": [
      "3\n"
     ]
    }
   ],
   "source": [
    "#Print the number of responses received.\n",
    "responses = len(response)\n",
    "print(responses)"
   ]
  },
  {
   "cell_type": "code",
   "execution_count": null,
   "metadata": {},
   "outputs": [],
   "source": []
  }
 ],
 "metadata": {
  "kernelspec": {
   "display_name": "Python 3",
   "language": "python",
   "name": "python3"
  },
  "language_info": {
   "codemirror_mode": {
    "name": "ipython",
    "version": 3
   },
   "file_extension": ".py",
   "mimetype": "text/x-python",
   "name": "python",
   "nbconvert_exporter": "python",
   "pygments_lexer": "ipython3",
   "version": "3.6.8"
  },
  "varInspector": {
   "cols": {
    "lenName": 16,
    "lenType": 16,
    "lenVar": 40
   },
   "kernels_config": {
    "python": {
     "delete_cmd_postfix": "",
     "delete_cmd_prefix": "del ",
     "library": "var_list.py",
     "varRefreshCmd": "print(var_dic_list())"
    },
    "r": {
     "delete_cmd_postfix": ") ",
     "delete_cmd_prefix": "rm(",
     "library": "var_list.r",
     "varRefreshCmd": "cat(var_dic_list()) "
    }
   },
   "types_to_exclude": [
    "module",
    "function",
    "builtin_function_or_method",
    "instance",
    "_Feature"
   ],
   "window_display": false
  }
 },
 "nbformat": 4,
 "nbformat_minor": 2
}
